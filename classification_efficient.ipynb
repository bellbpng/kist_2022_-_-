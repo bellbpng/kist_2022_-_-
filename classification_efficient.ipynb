{
 "cells": [
  {
   "cell_type": "code",
   "execution_count": null,
   "metadata": {},
   "outputs": [],
   "source": [
    "cd .."
   ]
  },
  {
   "cell_type": "code",
   "execution_count": null,
   "metadata": {},
   "outputs": [],
   "source": [
    "cd .."
   ]
  },
  {
   "cell_type": "code",
   "execution_count": null,
   "metadata": {},
   "outputs": [],
   "source": [
    "cd ./disk1/colonoscopy_datasetv2/cropped"
   ]
  },
  {
   "cell_type": "code",
   "execution_count": null,
   "metadata": {},
   "outputs": [],
   "source": [
    "pwd"
   ]
  },
  {
   "cell_type": "markdown",
   "metadata": {},
   "source": [
    "GPU 지정 & 라이브러리"
   ]
  },
  {
   "cell_type": "code",
   "execution_count": null,
   "metadata": {},
   "outputs": [],
   "source": [
    "import os\n",
    "os.environ[\"CUDA_DEVICE_ORDER\"]=\"PCI_BUS_ID\"\n",
    "os.environ[\"CUDA_VISIBLE_DEVICES\"]=\"0\"\n",
    "import torch\n",
    "device = torch.device(\"cuda:0\" if torch.cuda.is_available() else \"cpu\")\n",
    "device"
   ]
  },
  {
   "cell_type": "code",
   "execution_count": null,
   "metadata": {},
   "outputs": [],
   "source": [
    "# 모듈 임포트\n",
    "from PIL import Image\n",
    "from torch.utils.data import Dataset, DataLoader, random_split\n",
    "from torchvision import transforms\n",
    "from torch import nn\n",
    "\n",
    "print(torch.cuda.is_available())"
   ]
  },
  {
   "cell_type": "markdown",
   "metadata": {},
   "source": [
    "Custom Dataset 구현"
   ]
  },
  {
   "cell_type": "code",
   "execution_count": null,
   "metadata": {},
   "outputs": [],
   "source": [
    "class CustomDataset(Dataset):\n",
    "    def readImg(self):\n",
    "        all_img_files = []\n",
    "        all_labels = []\n",
    "\n",
    "        class_names = os.walk(self.dataset_path).__next__()[1]\n",
    "\n",
    "        for idx, class_name in enumerate(class_names):\n",
    "            img_dir = os.path.join(self.dataset_path, class_name)\n",
    "            img_files = os.walk(img_dir).__next__()[2]\n",
    "            \n",
    "            for img in img_files:\n",
    "                if img[4:8] == 'MASK':\n",
    "                    continue\n",
    "                img_path = os.path.join(img_dir,img)\n",
    "                image = Image.open(img_path)\n",
    "                if image is not None:\n",
    "                    all_img_files.append(img_path)\n",
    "                    all_labels.append(idx)\n",
    "\n",
    "        return all_img_files, all_labels, len(class_names), len(all_img_files)\n",
    "\n",
    "    def __init__(self, dataset_path, img_transforms=None):\n",
    "        self.dataset_path = dataset_path\n",
    "        self.img_transforms = img_transforms\n",
    "        self.img_files, self.labels, self.num_classes, self.num_images = self.readImg()\n",
    "\n",
    "    def __getitem__(self, index):\n",
    "        image = self.img_files[index]\n",
    "        image = Image.open(image)\n",
    "        image = image.convert('RGB')\n",
    "        label = self.labels[index]\n",
    "\n",
    "        if self.img_transforms is not None:\n",
    "            image = self.img_transforms(image)\n",
    "\n",
    "\n",
    "        return {'image':image, 'label':label}\n",
    "\n",
    "    def __len__(self):\n",
    "        return self.num_images\n"
   ]
  },
  {
   "cell_type": "markdown",
   "metadata": {},
   "source": [
    "모듈 구현"
   ]
  },
  {
   "cell_type": "code",
   "execution_count": null,
   "metadata": {},
   "outputs": [],
   "source": [
    "def train_epoch(model, dataloader, optimizer):\n",
    "    model.train()\n",
    "    crit = nn.CrossEntropyLoss()\n",
    "    sum_loss = 0\n",
    "\n",
    "    for item in dataloader:\n",
    "        images = item['image'].to(device)\n",
    "        labels = item['label'].to(device)\n",
    "\n",
    "        outputs = model(images)\n",
    "        loss = crit(outputs, labels)\n",
    "\n",
    "        optimizer.zero_grad()\n",
    "        loss.backward()\n",
    "        optimizer.step()\n",
    "\n",
    "        sum_loss += loss.item()*len(images)\n",
    "    \n",
    "    return sum_loss / len(dataloader.dataset)\n",
    "\n",
    "def validate_epoch(model, dataloader):\n",
    "    model.eval()\n",
    "    crit = nn.CrossEntropyLoss()\n",
    "    sum_loss = 0\n",
    "    correct = 0\n",
    "    total = len(dataloader.dataset)\n",
    "\n",
    "    with torch.no_grad():\n",
    "        for item in dataloader:\n",
    "            images = item['image'].to(device)\n",
    "            labels = item['label'].to(device)\n",
    "\n",
    "            outputs = model(images)\n",
    "            loss = crit(outputs, labels)\n",
    "\n",
    "            sum_loss += loss.item()*len(images)\n",
    "\n",
    "            _, pred = torch.max(outputs.data,1)\n",
    "            correct += (pred==labels).sum().item() # true(1)만 합하게 됨\n",
    "\n",
    "        accuracy = correct / total * 100\n",
    "\n",
    "        return sum_loss / len(dataloader.dataset), accuracy\n"
   ]
  },
  {
   "cell_type": "markdown",
   "metadata": {},
   "source": [
    "데이터셋 분할"
   ]
  },
  {
   "cell_type": "code",
   "execution_count": null,
   "metadata": {},
   "outputs": [],
   "source": [
    "data_transforms = transforms.Compose([transforms.Resize((224,224)), transforms.ToTensor(), \n",
    "                        transforms.Normalize(mean=[0.485,0.456,0.406], std=[0.229,0.224,0.225])])\n",
    "total_dataset = CustomDataset('./', data_transforms)\n",
    "train_size = int(total_dataset.num_images*0.8)\n",
    "validation_size = int(total_dataset.num_images*0.1)\n",
    "test_size = total_dataset.num_images - train_size - validation_size\n",
    "\n",
    "train_dataset, validation_dataset, test_dataset = random_split(total_dataset, [train_size, validation_size, test_size],generator=torch.Generator().manual_seed(42))\n",
    "\n",
    "print('Total dataset size: {}'.format(total_dataset.num_images))\n",
    "print('Train dataset size: {}'.format(train_size))\n",
    "print('Validation dataset size: {}'.format(validation_size))\n",
    "print('Test size: {}'.format(test_size))\n"
   ]
  },
  {
   "cell_type": "markdown",
   "metadata": {},
   "source": [
    "EfficientNet 모델 불러오기 & 훈련"
   ]
  },
  {
   "cell_type": "code",
   "execution_count": null,
   "metadata": {},
   "outputs": [],
   "source": [
    "from torchvision import models\n",
    "import ssl\n",
    "\n",
    "ssl._create_default_https_context = ssl._create_unverified_context\n",
    "\n",
    "model = torch.hub.load('NVIDIA/DeepLearningExamples:torchhub', 'nvidia_efficientnet_b0', pretrained=True)\n",
    "\n",
    "# 하이퍼파라미터 설정\n",
    "hy_batch = 32\n",
    "hy_epoch = 80\n",
    "hy_lr = 0.00001\n",
    "\n",
    "# PATH = '../../../home/bokyoungk/classification_models/vgg16/'\n",
    "# model = torch.load(PATH+'min_model_23.pt')\n",
    "# model.load_state_dict(torch.load(PATH+'min_model_state_23.pt'))\n",
    "# checkpoint = torch.load(PATH+'min_all_23th.tar')\n",
    "# model.load_state_dict(checkpoint['model'])\n",
    "# optimizer.load_state_dict(checkpoint['optimizer'])\n",
    "\n",
    "\n",
    "# fine tuning\n",
    "num_classes = total_dataset.num_classes\n",
    "num_ftrs = model.classifier.fc.in_features\n",
    "model.classifier.fc = nn.Linear(num_ftrs,num_classes)\n",
    "model.to(device)\n",
    "optimizer = torch.optim.Adam(model.parameters(), lr=hy_lr)\n",
    "print(model)\n",
    "\n",
    "train_loader = DataLoader(train_dataset, batch_size=hy_batch, shuffle=False)\n",
    "validation_loader = DataLoader(validation_dataset, batch_size=hy_batch, shuffle=False)\n",
    "test_loader = DataLoader(test_dataset, batch_size=hy_batch, shuffle=False)\n"
   ]
  },
  {
   "cell_type": "code",
   "execution_count": null,
   "metadata": {},
   "outputs": [],
   "source": [
    "from torchsummary import summary\n",
    "\n",
    "summary(model, (3,224,224))"
   ]
  },
  {
   "cell_type": "code",
   "execution_count": null,
   "metadata": {},
   "outputs": [],
   "source": [
    "import numpy as np\n",
    "import matplotlib.pyplot as plt\n",
    "\n",
    "PATH = '../../../home/bokyoungk/classification_models/efficientnet/'\n",
    "min_loss = 1\n",
    "max_accuracy = 80.0\n",
    "\n",
    "all_train_loss = []\n",
    "all_validation_loss = []\n",
    "all_accuracy = []\n",
    "\n",
    "\n",
    "for e in range(0, hy_epoch):\n",
    "    print('------------------------------epoch {}-------------------------------'.format(e+1))\n",
    "    train_loss = train_epoch(model,train_loader,optimizer=optimizer)\n",
    "    validation_loss, accuracy = validate_epoch(model,validation_loader)\n",
    "    print('train_loss: {}'.format(train_loss))\n",
    "    print('validation_loss: {}'.format(validation_loss))\n",
    "    print('Valid Acc: {}%'.format(accuracy))\n",
    "    all_train_loss.append(train_loss)\n",
    "    all_validation_loss.append(validation_loss)\n",
    "    all_accuracy.append(accuracy)\n",
    "\n",
    "    # 최소 val loss 모델 저장\n",
    "    # if min_loss > validation_loss:\n",
    "    #     min_loss = validation_loss\n",
    "    #     torch.save(model,PATH+'min_model_{}.pt'.format(e+1))\n",
    "    #     torch.save(model.state_dict(),PATH+'min_model_state_{}.pt'.format(e+1))\n",
    "    #     torch.save({\n",
    "    #         'model':model.state_dict(),\n",
    "    #         'optimizer':optimizer.state_dict()\n",
    "    #     },PATH+'min_all_{}th.tar'.format(e+1))\n",
    "    \n",
    "    # # 최대 val accuracy 모델 저장\n",
    "    # if max_accuracy < accuracy:\n",
    "    #     max_accuracy = accuracy\n",
    "    #     torch.save(model,PATH+'max_acc_model_{}.pt'.format(e+1))\n",
    "    #     torch.save(model.state_dict(),PATH+'max_acc_model_state_{}.pt'.format(e+1))\n",
    "    #     torch.save({\n",
    "    #         'model':model.state_dict(),\n",
    "    #         'optimizer':optimizer.state_dict()\n",
    "    #     },PATH+'max_acc_all_{}.tar'.format(e+1))\n",
    "\n",
    "    if (e+1)==60:\n",
    "        torch.save(model,PATH+'model_{}th.pt'.format(e+1))\n",
    "        torch.save(model.state_dict(),PATH+'model_state_{}th.pt'.format(e+1))\n",
    "        torch.save({\n",
    "            'model':model.state_dict(),\n",
    "            'optimizer':optimizer.state_dict()\n",
    "        },PATH+'all_{}th.tar'.format(e+1))\n"
   ]
  },
  {
   "cell_type": "code",
   "execution_count": null,
   "metadata": {},
   "outputs": [],
   "source": [
    "# 시각화\n",
    "x = np.arange(1,hy_epoch+1,step=1)\n",
    "\n",
    "plt.figure(figsize=(15,10))\n",
    "plt.subplot(1,2,1)\n",
    "plt.xlabel('Epoch: ')\n",
    "plt.ylabel('Loss: ')\n",
    "plt.plot(x,all_train_loss,label='train loss')\n",
    "plt.plot(x,all_validation_loss,label='validation loss')\n",
    "plt.legend()\n",
    "plt.show()\n",
    "\n",
    "plt.subplot(1,2,2)\n",
    "plt.xlabel('Epoch: ')\n",
    "plt.ylabel('Accuracy(%): ')\n",
    "plt.plot(x,all_accuracy)\n",
    "plt.show()"
   ]
  },
  {
   "cell_type": "markdown",
   "metadata": {},
   "source": [
    "모델 성능 평가"
   ]
  },
  {
   "cell_type": "code",
   "execution_count": null,
   "metadata": {},
   "outputs": [],
   "source": [
    "model = torch.load(PATH+'model_60th.pt')\n",
    "model.load_state_dict(torch.load(PATH+'model_state_60th.pt'))\n",
    "checkpoint = torch.load(PATH+'all_60th.tar')\n",
    "model.load_state_dict(checkpoint['model'])\n",
    "model.eval()\n",
    "\n",
    "with torch.no_grad():\n",
    "    correct = 0\n",
    "    total = len(test_loader.dataset)\n",
    "    for item in test_loader:\n",
    "        images = item['image'].to(device)\n",
    "        labels = item['label'].to(device)\n",
    "\n",
    "        outputs = model(images)\n",
    "        _, pred = torch.max(outputs,1)\n",
    "        correct += (pred==labels).sum().item()\n",
    "    \n",
    "    print('Test accuracy of the model on the {} test images: {}%'.format(total, 100*correct/total))"
   ]
  }
 ],
 "metadata": {
  "kernelspec": {
   "display_name": "Python 3.6.9 64-bit",
   "language": "python",
   "name": "python3"
  },
  "language_info": {
   "codemirror_mode": {
    "name": "ipython",
    "version": 3
   },
   "file_extension": ".py",
   "mimetype": "text/x-python",
   "name": "python",
   "nbconvert_exporter": "python",
   "pygments_lexer": "ipython3",
   "version": "3.6.9"
  },
  "orig_nbformat": 4,
  "vscode": {
   "interpreter": {
    "hash": "31f2aee4e71d21fbe5cf8b01ff0e069b9275f58929596ceb00d14d90e3e16cd6"
   }
  }
 },
 "nbformat": 4,
 "nbformat_minor": 2
}
