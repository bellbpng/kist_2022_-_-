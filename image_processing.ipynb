{
 "cells": [
  {
   "cell_type": "code",
   "execution_count": null,
   "metadata": {},
   "outputs": [],
   "source": [
    "cd .."
   ]
  },
  {
   "cell_type": "code",
   "execution_count": null,
   "metadata": {},
   "outputs": [],
   "source": [
    "cd .."
   ]
  },
  {
   "cell_type": "code",
   "execution_count": null,
   "metadata": {},
   "outputs": [],
   "source": [
    "cd ./disk1/colonoscopy_cbd"
   ]
  },
  {
   "cell_type": "code",
   "execution_count": null,
   "metadata": {},
   "outputs": [],
   "source": [
    "pwd"
   ]
  },
  {
   "cell_type": "markdown",
   "metadata": {},
   "source": [
    "GPU & 모듈 임포트"
   ]
  },
  {
   "cell_type": "code",
   "execution_count": null,
   "metadata": {},
   "outputs": [],
   "source": [
    "import os\n",
    "os.environ[\"CUDA_DEVICE_ORDER\"]=\"PCI_BUS_ID\"\n",
    "os.environ[\"CUDA_VISIBLE_DEVICES\"]=\"0\"\n",
    "import torch\n",
    "device = torch.device(\"cuda:0\" if torch.cuda.is_available() else \"cpu\")\n",
    "device"
   ]
  },
  {
   "cell_type": "code",
   "execution_count": null,
   "metadata": {},
   "outputs": [],
   "source": [
    "import numpy as np\n",
    "import matplotlib.pyplot as plt\n",
    "from torch.utils.data import Dataset, DataLoader\n",
    "from PIL import Image\n",
    "from torchvision import transforms"
   ]
  },
  {
   "cell_type": "markdown",
   "metadata": {},
   "source": [
    "Custom DataLoader 구현"
   ]
  },
  {
   "cell_type": "code",
   "execution_count": null,
   "metadata": {},
   "outputs": [],
   "source": [
    "class CustomDataset(Dataset):\n",
    "    def readData(self):\n",
    "        all_images = []\n",
    "        image_files = os.walk(self.dataset_path).__next__()[2]\n",
    "\n",
    "        for img in image_files:\n",
    "            img_path = os.path.join(self.dataset_path, img)\n",
    "            image = Image.open(img_path)\n",
    "            if image is not None:\n",
    "                all_images.append(img_path)\n",
    "    \n",
    "        return all_images, len(all_images)\n",
    "        \n",
    "    def __init__(self, dataset_path, transforms=None):\n",
    "        self.dataset_path = dataset_path\n",
    "        self.transforms = transforms\n",
    "        self.images, self.num_images = self.readData()\n",
    "\n",
    "    def __getitem__(self, index):\n",
    "        image = self.images[index]\n",
    "        image = Image.open(image)\n",
    "        image = image.convert('RGB')\n",
    "\n",
    "        if self.transforms is not None:\n",
    "            image = self.transforms(image)\n",
    "        \n",
    "        return image\n",
    "\n",
    "    def __len__(self):\n",
    "        return self.num_images\n"
   ]
  },
  {
   "cell_type": "markdown",
   "metadata": {},
   "source": [
    "데이터 전처리 모듈 구현"
   ]
  },
  {
   "cell_type": "code",
   "execution_count": null,
   "metadata": {},
   "outputs": [],
   "source": [
    "def ImageProcessor(image):\n",
    "    image_size = image.shape\n",
    "    # print('image size: {}'.format(image_size))\n",
    "    row = image_size[0]\n",
    "    col = image_size[1]\n",
    "\n",
    "    # z-axis summation\n",
    "    sum_zdim = np.sum(image,axis=2)\n",
    "    # print('z-axis summation shape: {}'.format(sum_zdim.shape))\n",
    "    # print('z-axis summation: {}'.format(sum_zdim))\n",
    "\n",
    "    # x-axis summation\n",
    "    sum_xdim = np.sum(sum_zdim,axis=0)\n",
    "    # print('x-axis summation shape: {}'.format(sum_xdim.shape))\n",
    "    # print('x-axis summation shape: {}'.format(sum_xdim))\n",
    "\n",
    "    # y-axis summation\n",
    "    sum_ydim = np.sum(sum_zdim,axis=1)\n",
    "    # print('y-axis summation shape: {}'.format(sum_ydim.shape))\n",
    "    # print('y-axis summation shape: {}'.format(sum_ydim))\n",
    "    \n",
    "    x_start_th = 70000\n",
    "    x_end_th = np.min(sum_xdim) + 4000\n",
    "    y_start_th = 70000\n",
    "    y_end_th = np.min(sum_ydim) + 4000\n",
    "    x_start, x_end, y_start, y_end = 0, 0, 0, 0\n",
    "    cnt = 0\n",
    "    x_boundary = sum_xdim.size - 1\n",
    "    y_boundary = sum_ydim.size - 1\n",
    "    for idx, item in enumerate(sum_xdim):\n",
    "        if item > x_start_th:\n",
    "            if cnt==1: continue\n",
    "            x_start = idx\n",
    "            cnt = 1\n",
    "        elif item < x_end_th:\n",
    "            if cnt==0: continue\n",
    "            x_end = idx\n",
    "            cnt = 0\n",
    "        elif idx == x_boundary:\n",
    "            x_end = idx\n",
    "\n",
    "    cnt = 0\n",
    "    for idx, item in enumerate(sum_ydim):\n",
    "        if item > y_start_th:\n",
    "            if cnt==1: continue\n",
    "            y_start = idx\n",
    "            cnt = 1\n",
    "        elif item < y_end_th:\n",
    "            if cnt==0: continue\n",
    "            y_end = idx\n",
    "            cnt = 0\n",
    "        elif idx == y_boundary:\n",
    "            y_end = idx\n",
    "        \n",
    "    pos1 = (x_start, y_start)\n",
    "    pos2 = (x_start, y_end)\n",
    "    pos3 = (x_end, y_start)\n",
    "    pos4 = (x_end, y_end)\n",
    "    # print('pos1: {}\\npos2: {}\\npos3: {}\\npos4: {}'.format(pos1,pos2,pos3,pos4))\n",
    "\n",
    "    return x_start, y_start, x_end, y_end"
   ]
  },
  {
   "cell_type": "code",
   "execution_count": null,
   "metadata": {},
   "outputs": [],
   "source": [
    "# 이미지 전처리 코드 테스트용 & 시각화\n",
    "sample_dataset = CustomDataset('./HGD/')\n",
    "plt.figure(figsize=(20,15))\n",
    "cnt = 1\n",
    "for idx,item in enumerate(sample_dataset):\n",
    "    if cnt>=40: break\n",
    "    image = np.array(item)\n",
    "    x0,y0,x1,y1 = ImageProcessor(image)\n",
    "    plt.subplot(5,8,cnt)\n",
    "    plt.title(sample_dataset.images[idx])\n",
    "    plt.imshow(item)\n",
    "    item = item.crop((x0,y0,x1,y1))\n",
    "    plt.subplot(5,8,cnt+1)\n",
    "    plt.imshow(item)\n",
    "\n",
    "    cnt += 2\n",
    "    \n"
   ]
  },
  {
   "cell_type": "code",
   "execution_count": null,
   "metadata": {},
   "outputs": [],
   "source": [
    "# 전처리 된 이미지로 새로운 데이터셋 형성\n",
    "cancer_dataset = CustomDataset('./Cancer/')\n",
    "hgd_dataset = CustomDataset('./HGD/')\n",
    "lgd_dataset = CustomDataset('./LGD/')\n",
    "nor_dataset = CustomDataset('./Normal/')\n",
    "PATH = '../colonoscopy_cbd_prd_v2/'\n",
    "\n",
    "for idx, item in enumerate(cancer_dataset):\n",
    "    image = np.array(item)\n",
    "    x0,y0,x1,y1 = ImageProcessor(image)\n",
    "    item = item.crop((x0,y0,x1,y1))\n",
    "    item.save(PATH+cancer_dataset.images[idx])\n",
    "\n",
    "for idx, item in enumerate(hgd_dataset):\n",
    "    image = np.array(item)\n",
    "    x0,y0,x1,y1 = ImageProcessor(image)\n",
    "    item = item.crop((x0,y0,x1,y1))\n",
    "    item.save(PATH+hgd_dataset.images[idx])\n",
    "\n",
    "for idx, item in enumerate(lgd_dataset):\n",
    "    image = np.array(item)\n",
    "    x0,y0,x1,y1 = ImageProcessor(image)\n",
    "    item = item.crop((x0,y0,x1,y1))\n",
    "    item.save(PATH+lgd_dataset.images[idx])\n",
    "\n",
    "for idx, item in enumerate(nor_dataset):\n",
    "    image = np.array(item)\n",
    "    x0,y0,x1,y1 = ImageProcessor(image)\n",
    "    item = item.crop((x0,y0,x1,y1))\n",
    "    item.save(PATH+nor_dataset.images[idx])"
   ]
  }
 ],
 "metadata": {
  "kernelspec": {
   "display_name": "Python 3.6.9 64-bit",
   "language": "python",
   "name": "python3"
  },
  "language_info": {
   "codemirror_mode": {
    "name": "ipython",
    "version": 3
   },
   "file_extension": ".py",
   "mimetype": "text/x-python",
   "name": "python",
   "nbconvert_exporter": "python",
   "pygments_lexer": "ipython3",
   "version": "3.6.9"
  },
  "orig_nbformat": 4,
  "vscode": {
   "interpreter": {
    "hash": "31f2aee4e71d21fbe5cf8b01ff0e069b9275f58929596ceb00d14d90e3e16cd6"
   }
  }
 },
 "nbformat": 4,
 "nbformat_minor": 2
}
